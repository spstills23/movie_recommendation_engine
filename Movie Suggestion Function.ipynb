{
 "cells": [
  {
   "cell_type": "code",
   "execution_count": 2,
   "metadata": {},
   "outputs": [
    {
     "name": "stderr",
     "output_type": "stream",
     "text": [
      "C:\\Users\\seans\\Anaconda3\\lib\\site-packages\\fuzzywuzzy\\fuzz.py:11: UserWarning: Using slow pure-python SequenceMatcher. Install python-Levenshtein to remove this warning\n",
      "  warnings.warn('Using slow pure-python SequenceMatcher. Install python-Levenshtein to remove this warning')\n"
     ]
    }
   ],
   "source": [
    "import pandas as pd\n",
    "import numpy as np\n",
    "from sklearn.feature_extraction.text import CountVectorizer\n",
    "from sklearn.metrics.pairwise import cosine_similarity\n",
    "from fuzzywuzzy import process #have to pip install into anaconda root"
   ]
  },
  {
   "cell_type": "code",
   "execution_count": 3,
   "metadata": {},
   "outputs": [],
   "source": [
    "def movie_suggestion_by_favorite (title):\n",
    "    df = pd.read_csv('movie_dataset.csv')\n",
    "    features = ['overview','keywords','cast', 'genres','director']\n",
    "    \n",
    "\n",
    "    title = process.extractOne(title,df['title'])[0]  #uses fuzzy matching to extract the input to a movie closest to whats typed\n",
    "    \n",
    "    for feature in features:\n",
    "        df[feature]=df[feature].fillna('') #filling any missing values with empty\n",
    "        \n",
    "    def combined_features(row):\n",
    "        return row['overview']+' '+row['keywords']+' '+row['cast']+' '+row['genres']+' '+row['director']\n",
    "   \n",
    "    df['combined_features']=df.apply(combined_features, axis=1) #axis =1 means to do on all rows\n",
    "    \n",
    "    df['title'] = df['title'].apply(lambda x: x.title())\n",
    "    \n",
    "    count_matrix = CountVectorizer().fit_transform(df['combined_features'])\n",
    "    \n",
    "    cosine_sim = cosine_similarity(count_matrix)\n",
    "    def get_title_from_index(index):\n",
    "        return df[df.index==index]['title'].values[0]\n",
    "\n",
    "    #get index from title of movie function\n",
    "    def get_index_from_title(title):\n",
    "        return df[df.title==title]['index'].values[0]\n",
    "    \n",
    "    movie_that_user_likes = title\n",
    "    \n",
    "    #checks to see if the inputed movie is in the database and if so looks up its index number\n",
    "    if movie_that_user_likes in df['title'].values:\n",
    "        movie_index = get_index_from_title(movie_that_user_likes)\n",
    "        print(movie_that_user_likes,'is index',movie_index)\n",
    "    else:\n",
    "        print(movie_that_user_likes,'is not in the database. Try again!')\n",
    "\n",
    "    similar_movies = list(enumerate(cosine_sim[movie_index]))\n",
    "    \n",
    "    sorted_similar_movies = sorted(similar_movies, key = lambda x:x[1], reverse=True)[1:]\n",
    "    \n",
    "    i=0\n",
    "    print('The top 5 similar movies to '+ movie_that_user_likes +' are:')\n",
    "\n",
    "    for element in sorted_similar_movies:\n",
    "        print(get_title_from_index(element[0]))\n",
    "        i = i + 1\n",
    "        if i >=5:\n",
    "            break\n"
   ]
  },
  {
   "cell_type": "code",
   "execution_count": 5,
   "metadata": {},
   "outputs": [
    {
     "name": "stdout",
     "output_type": "stream",
     "text": [
      "Hercules is index 304\n",
      "The top 5 similar movies to Hercules are:\n",
      "The Legend Of Hercules\n",
      "Gladiator\n",
      "In The Heart Of The Sea\n",
      "Jack The Giant Slayer\n",
      "Star Trek Iv: The Voyage Home\n"
     ]
    }
   ],
   "source": [
    "movie_suggestion_by_favorite('herculs')"
   ]
  },
  {
   "cell_type": "code",
   "execution_count": null,
   "metadata": {},
   "outputs": [],
   "source": []
  }
 ],
 "metadata": {
  "kernelspec": {
   "display_name": "Python 3",
   "language": "python",
   "name": "python3"
  },
  "language_info": {
   "codemirror_mode": {
    "name": "ipython",
    "version": 3
   },
   "file_extension": ".py",
   "mimetype": "text/x-python",
   "name": "python",
   "nbconvert_exporter": "python",
   "pygments_lexer": "ipython3",
   "version": "3.7.4"
  }
 },
 "nbformat": 4,
 "nbformat_minor": 2
}
